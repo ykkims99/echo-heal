{
  "cells": [
    {
      "cell_type": "markdown",
      "metadata": {},
      "source": [
        "# \ud83e\udde0 Echo-Heal Demo\n",
        "This notebook reproduces the inference steps described in the Echo-Heal IEEE Access paper.\n",
        "- Predicts healing probability and recovery time.\n",
        "- Simulates Grad-CAM overlay.\n",
        "- Measures inference latency.\n"
      ]
    },
    {
      "cell_type": "code",
      "metadata": {},
      "source": [
        "import onnxruntime as ort\n",
        "import cv2\n",
        "import numpy as np\n",
        "import time\n",
        "import matplotlib.pyplot as plt\n"
      ]
    },
    {
      "cell_type": "code",
      "metadata": {},
      "source": [
        "# Load and preprocess image\n",
        "img = cv2.imread('../test_images/before.jpg')\n",
        "img = cv2.resize(img, (224, 224))\n",
        "x = img.transpose(2, 0, 1).astype(np.float32) / 255.0\n",
        "x = np.expand_dims(x, axis=0)\n"
      ]
    },
    {
      "cell_type": "code",
      "metadata": {},
      "source": [
        "# Run inference and measure latency\n",
        "sess = ort.InferenceSession('../models/echo_heal_v1.onnx')\n",
        "input_name = sess.get_inputs()[0].name\n",
        "start = time.time()\n",
        "outputs = sess.run(None, {input_name: x})\n",
        "latency = (time.time() - start) * 1000\n",
        "p_heal = outputs[0][0][0]\n",
        "t_recover = outputs[1][0][0]\n",
        "print(f\"Healing Probability: {p_heal:.2f}\")\n",
        "print(f\"Recovery Time Estimate: {t_recover:.1f} days\")\n",
        "print(f\"Inference Latency: {latency:.1f} ms\")\n"
      ]
    },
    {
      "cell_type": "code",
      "metadata": {},
      "source": [
        "# Simulated Grad-CAM overlay\n",
        "overlay = cv2.addWeighted(img, 0.6, np.full_like(img, [0, 0, 255]), 0.4, 0)\n",
        "cv2.imwrite('../results/cam_overlay.png', overlay)\n",
        "plt.imshow(cv2.cvtColor(overlay, cv2.COLOR_BGR2RGB))\n",
        "plt.title(\"Simulated Grad-CAM\")\n",
        "plt.axis(\"off\")\n",
        "plt.show()\n"
      ]
    }
  ],
  "metadata": {
    "kernelspec": {
      "display_name": "Python 3",
      "language": "python",
      "name": "python3"
    },
    "language_info": {
      "name": "python",
      "version": "3.8"
    }
  },
  "nbformat": 4,
  "nbformat_minor": 2
}